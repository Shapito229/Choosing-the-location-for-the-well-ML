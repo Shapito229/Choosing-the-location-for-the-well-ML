{
 "cells": [
  {
   "cell_type": "markdown",
   "metadata": {},
   "source": [
    "# Выбор локации для скважины"
   ]
  },
  {
   "cell_type": "markdown",
   "metadata": {},
   "source": [
    "Допустим, вы работаете в добывающей компании «ГлавРосГосНефть». Нужно решить, где бурить новую скважину.\n",
    "\n",
    "Вам предоставлены пробы нефти в трёх регионах: в каждом 10 000 месторождений, где измерили качество нефти и объём её запасов. Постройте модель машинного обучения, которая поможет определить регион, где добыча принесёт наибольшую прибыль. Проанализируйте возможную прибыль и риски техникой *Bootstrap.*\n",
    "\n",
    "Шаги для выбора локации:\n",
    "\n",
    "- В избранном регионе ищут месторождения, для каждого определяют значения признаков;\n",
    "- Строят модель и оценивают объём запасов;\n",
    "- Выбирают месторождения с самым высокими оценками значений. Количество месторождений зависит от бюджета компании и стоимости разработки одной скважины;\n",
    "- Прибыль равна суммарной прибыли отобранных месторождений."
   ]
  },
  {
   "cell_type": "markdown",
   "metadata": {},
   "source": [
    "## Описание данных\n",
    "Данные геологоразведки трёх регионов находятся в файлах:\n",
    "\n",
    "/datasets/geo_data_0.csv. Скачать датасет\n",
    "\n",
    "/datasets/geo_data_1.csv. Скачать датасет\n",
    "\n",
    "/datasets/geo_data_2.csv. Скачать датасет\n",
    "\n",
    "id — уникальный идентификатор скважины;\n",
    "\n",
    "f0, f1, f2 — три признака точек (неважно, что они означают, но сами признаки значимы);\n",
    "\n",
    "product — объём запасов в скважине (тыс. баррелей)."
   ]
  },
  {
   "cell_type": "markdown",
   "metadata": {},
   "source": [
    "## Загрузка и подготовка данных"
   ]
  },
  {
   "cell_type": "code",
   "execution_count": 1,
   "metadata": {},
   "outputs": [],
   "source": [
    "import pandas as pd\n",
    "import numpy as np\n",
    "from sklearn.model_selection import train_test_split\n",
    "from sklearn.linear_model import LinearRegression\n",
    "from sklearn.metrics import mean_squared_error\n",
    "from IPython.display import display\n",
    "import warnings\n",
    "from scipy import stats"
   ]
  },
  {
   "cell_type": "code",
   "execution_count": 2,
   "metadata": {},
   "outputs": [],
   "source": [
    "warnings.filterwarnings(\"ignore\")"
   ]
  },
  {
   "cell_type": "code",
   "execution_count": 3,
   "metadata": {},
   "outputs": [
    {
     "data": {
      "text/html": [
       "<div>\n",
       "<style scoped>\n",
       "    .dataframe tbody tr th:only-of-type {\n",
       "        vertical-align: middle;\n",
       "    }\n",
       "\n",
       "    .dataframe tbody tr th {\n",
       "        vertical-align: top;\n",
       "    }\n",
       "\n",
       "    .dataframe thead th {\n",
       "        text-align: right;\n",
       "    }\n",
       "</style>\n",
       "<table border=\"1\" class=\"dataframe\">\n",
       "  <thead>\n",
       "    <tr style=\"text-align: right;\">\n",
       "      <th></th>\n",
       "      <th>id</th>\n",
       "      <th>f0</th>\n",
       "      <th>f1</th>\n",
       "      <th>f2</th>\n",
       "      <th>product</th>\n",
       "    </tr>\n",
       "  </thead>\n",
       "  <tbody>\n",
       "    <tr>\n",
       "      <td>0</td>\n",
       "      <td>txEyH</td>\n",
       "      <td>0.705745</td>\n",
       "      <td>-0.497823</td>\n",
       "      <td>1.221170</td>\n",
       "      <td>105.280062</td>\n",
       "    </tr>\n",
       "    <tr>\n",
       "      <td>1</td>\n",
       "      <td>2acmU</td>\n",
       "      <td>1.334711</td>\n",
       "      <td>-0.340164</td>\n",
       "      <td>4.365080</td>\n",
       "      <td>73.037750</td>\n",
       "    </tr>\n",
       "    <tr>\n",
       "      <td>2</td>\n",
       "      <td>409Wp</td>\n",
       "      <td>1.022732</td>\n",
       "      <td>0.151990</td>\n",
       "      <td>1.419926</td>\n",
       "      <td>85.265647</td>\n",
       "    </tr>\n",
       "    <tr>\n",
       "      <td>3</td>\n",
       "      <td>iJLyR</td>\n",
       "      <td>-0.032172</td>\n",
       "      <td>0.139033</td>\n",
       "      <td>2.978566</td>\n",
       "      <td>168.620776</td>\n",
       "    </tr>\n",
       "    <tr>\n",
       "      <td>4</td>\n",
       "      <td>Xdl7t</td>\n",
       "      <td>1.988431</td>\n",
       "      <td>0.155413</td>\n",
       "      <td>4.751769</td>\n",
       "      <td>154.036647</td>\n",
       "    </tr>\n",
       "  </tbody>\n",
       "</table>\n",
       "</div>"
      ],
      "text/plain": [
       "      id        f0        f1        f2     product\n",
       "0  txEyH  0.705745 -0.497823  1.221170  105.280062\n",
       "1  2acmU  1.334711 -0.340164  4.365080   73.037750\n",
       "2  409Wp  1.022732  0.151990  1.419926   85.265647\n",
       "3  iJLyR -0.032172  0.139033  2.978566  168.620776\n",
       "4  Xdl7t  1.988431  0.155413  4.751769  154.036647"
      ]
     },
     "metadata": {},
     "output_type": "display_data"
    }
   ],
   "source": [
    "data0=pd.read_csv('/datasets/geo_data_0.csv')\n",
    "display(data0.head())"
   ]
  },
  {
   "cell_type": "code",
   "execution_count": 4,
   "metadata": {},
   "outputs": [
    {
     "data": {
      "text/html": [
       "<div>\n",
       "<style scoped>\n",
       "    .dataframe tbody tr th:only-of-type {\n",
       "        vertical-align: middle;\n",
       "    }\n",
       "\n",
       "    .dataframe tbody tr th {\n",
       "        vertical-align: top;\n",
       "    }\n",
       "\n",
       "    .dataframe thead th {\n",
       "        text-align: right;\n",
       "    }\n",
       "</style>\n",
       "<table border=\"1\" class=\"dataframe\">\n",
       "  <thead>\n",
       "    <tr style=\"text-align: right;\">\n",
       "      <th></th>\n",
       "      <th>id</th>\n",
       "      <th>f0</th>\n",
       "      <th>f1</th>\n",
       "      <th>f2</th>\n",
       "      <th>product</th>\n",
       "    </tr>\n",
       "  </thead>\n",
       "  <tbody>\n",
       "    <tr>\n",
       "      <td>0</td>\n",
       "      <td>kBEdx</td>\n",
       "      <td>-15.001348</td>\n",
       "      <td>-8.276000</td>\n",
       "      <td>-0.005876</td>\n",
       "      <td>3.179103</td>\n",
       "    </tr>\n",
       "    <tr>\n",
       "      <td>1</td>\n",
       "      <td>62mP7</td>\n",
       "      <td>14.272088</td>\n",
       "      <td>-3.475083</td>\n",
       "      <td>0.999183</td>\n",
       "      <td>26.953261</td>\n",
       "    </tr>\n",
       "    <tr>\n",
       "      <td>2</td>\n",
       "      <td>vyE1P</td>\n",
       "      <td>6.263187</td>\n",
       "      <td>-5.948386</td>\n",
       "      <td>5.001160</td>\n",
       "      <td>134.766305</td>\n",
       "    </tr>\n",
       "    <tr>\n",
       "      <td>3</td>\n",
       "      <td>KcrkZ</td>\n",
       "      <td>-13.081196</td>\n",
       "      <td>-11.506057</td>\n",
       "      <td>4.999415</td>\n",
       "      <td>137.945408</td>\n",
       "    </tr>\n",
       "    <tr>\n",
       "      <td>4</td>\n",
       "      <td>AHL4O</td>\n",
       "      <td>12.702195</td>\n",
       "      <td>-8.147433</td>\n",
       "      <td>5.004363</td>\n",
       "      <td>134.766305</td>\n",
       "    </tr>\n",
       "  </tbody>\n",
       "</table>\n",
       "</div>"
      ],
      "text/plain": [
       "      id         f0         f1        f2     product\n",
       "0  kBEdx -15.001348  -8.276000 -0.005876    3.179103\n",
       "1  62mP7  14.272088  -3.475083  0.999183   26.953261\n",
       "2  vyE1P   6.263187  -5.948386  5.001160  134.766305\n",
       "3  KcrkZ -13.081196 -11.506057  4.999415  137.945408\n",
       "4  AHL4O  12.702195  -8.147433  5.004363  134.766305"
      ]
     },
     "execution_count": 4,
     "metadata": {},
     "output_type": "execute_result"
    }
   ],
   "source": [
    "data1=pd.read_csv('/datasets/geo_data_1.csv')\n",
    "data1.head()"
   ]
  },
  {
   "cell_type": "code",
   "execution_count": 5,
   "metadata": {},
   "outputs": [
    {
     "data": {
      "text/html": [
       "<div>\n",
       "<style scoped>\n",
       "    .dataframe tbody tr th:only-of-type {\n",
       "        vertical-align: middle;\n",
       "    }\n",
       "\n",
       "    .dataframe tbody tr th {\n",
       "        vertical-align: top;\n",
       "    }\n",
       "\n",
       "    .dataframe thead th {\n",
       "        text-align: right;\n",
       "    }\n",
       "</style>\n",
       "<table border=\"1\" class=\"dataframe\">\n",
       "  <thead>\n",
       "    <tr style=\"text-align: right;\">\n",
       "      <th></th>\n",
       "      <th>id</th>\n",
       "      <th>f0</th>\n",
       "      <th>f1</th>\n",
       "      <th>f2</th>\n",
       "      <th>product</th>\n",
       "    </tr>\n",
       "  </thead>\n",
       "  <tbody>\n",
       "    <tr>\n",
       "      <td>0</td>\n",
       "      <td>fwXo0</td>\n",
       "      <td>-1.146987</td>\n",
       "      <td>0.963328</td>\n",
       "      <td>-0.828965</td>\n",
       "      <td>27.758673</td>\n",
       "    </tr>\n",
       "    <tr>\n",
       "      <td>1</td>\n",
       "      <td>WJtFt</td>\n",
       "      <td>0.262778</td>\n",
       "      <td>0.269839</td>\n",
       "      <td>-2.530187</td>\n",
       "      <td>56.069697</td>\n",
       "    </tr>\n",
       "    <tr>\n",
       "      <td>2</td>\n",
       "      <td>ovLUW</td>\n",
       "      <td>0.194587</td>\n",
       "      <td>0.289035</td>\n",
       "      <td>-5.586433</td>\n",
       "      <td>62.871910</td>\n",
       "    </tr>\n",
       "    <tr>\n",
       "      <td>3</td>\n",
       "      <td>q6cA6</td>\n",
       "      <td>2.236060</td>\n",
       "      <td>-0.553760</td>\n",
       "      <td>0.930038</td>\n",
       "      <td>114.572842</td>\n",
       "    </tr>\n",
       "    <tr>\n",
       "      <td>4</td>\n",
       "      <td>WPMUX</td>\n",
       "      <td>-0.515993</td>\n",
       "      <td>1.716266</td>\n",
       "      <td>5.899011</td>\n",
       "      <td>149.600746</td>\n",
       "    </tr>\n",
       "  </tbody>\n",
       "</table>\n",
       "</div>"
      ],
      "text/plain": [
       "      id        f0        f1        f2     product\n",
       "0  fwXo0 -1.146987  0.963328 -0.828965   27.758673\n",
       "1  WJtFt  0.262778  0.269839 -2.530187   56.069697\n",
       "2  ovLUW  0.194587  0.289035 -5.586433   62.871910\n",
       "3  q6cA6  2.236060 -0.553760  0.930038  114.572842\n",
       "4  WPMUX -0.515993  1.716266  5.899011  149.600746"
      ]
     },
     "execution_count": 5,
     "metadata": {},
     "output_type": "execute_result"
    }
   ],
   "source": [
    "data2=pd.read_csv('/datasets/geo_data_2.csv')\n",
    "data2.head()"
   ]
  },
  {
   "cell_type": "code",
   "execution_count": 6,
   "metadata": {},
   "outputs": [
    {
     "name": "stdout",
     "output_type": "stream",
     "text": [
      "**Общая информация датафрейма**\n",
      "<class 'pandas.core.frame.DataFrame'>\n",
      "RangeIndex: 100000 entries, 0 to 99999\n",
      "Data columns (total 5 columns):\n",
      "id         100000 non-null object\n",
      "f0         100000 non-null float64\n",
      "f1         100000 non-null float64\n",
      "f2         100000 non-null float64\n",
      "product    100000 non-null float64\n",
      "dtypes: float64(4), object(1)\n",
      "memory usage: 3.8+ MB\n",
      "None\n",
      "-------------------------------------------------------------------------------------------------------------\n",
      "**Просмотр статистических данных**\n",
      "                  f0             f1             f2        product\n",
      "count  100000.000000  100000.000000  100000.000000  100000.000000\n",
      "mean        0.500419       0.250143       2.502647      92.500000\n",
      "std         0.871832       0.504433       3.248248      44.288691\n",
      "min        -1.408605      -0.848218     -12.088328       0.000000\n",
      "25%        -0.072580      -0.200881       0.287748      56.497507\n",
      "50%         0.502360       0.250252       2.515969      91.849972\n",
      "75%         1.073581       0.700646       4.715088     128.564089\n",
      "max         2.362331       1.343769      16.003790     185.364347\n",
      "-------------------------------------------------------------------------------------------------------------\n",
      "**Вывод рандомных строк датафрейма**\n",
      "          id        f0        f1        f2     product\n",
      "43660  MUOMg  0.951436  0.296027  6.817623   89.929339\n",
      "87278  OZXkj  0.800004  0.231734 -2.650680   94.203721\n",
      "14317  adoVK  0.726819 -0.422117  2.645328  123.553649\n",
      "-------------------------------------------------------------------------------------------------------------\n",
      "**Вывод первых пяти строк датафрейма**\n",
      "      id        f0        f1        f2     product\n",
      "0  txEyH  0.705745 -0.497823  1.221170  105.280062\n",
      "1  2acmU  1.334711 -0.340164  4.365080   73.037750\n",
      "2  409Wp  1.022732  0.151990  1.419926   85.265647\n",
      "3  iJLyR -0.032172  0.139033  2.978566  168.620776\n",
      "4  Xdl7t  1.988431  0.155413  4.751769  154.036647\n",
      "-------------------------------------------------------------------------------------------------------------\n",
      "**Вывод количесва дубликатов датафрейма**\n",
      "0\n",
      "-------------------------------------------------------------------------------------------------------------\n",
      "**Вывод количесва пропущеных значений датафрейма**\n",
      "id         0\n",
      "f0         0\n",
      "f1         0\n",
      "f2         0\n",
      "product    0\n",
      "dtype: int64\n",
      "-------------------------------------------------------------------------------------------------------------\n",
      "None\n",
      "**Общая информация датафрейма**\n",
      "<class 'pandas.core.frame.DataFrame'>\n",
      "RangeIndex: 100000 entries, 0 to 99999\n",
      "Data columns (total 5 columns):\n",
      "id         100000 non-null object\n",
      "f0         100000 non-null float64\n",
      "f1         100000 non-null float64\n",
      "f2         100000 non-null float64\n",
      "product    100000 non-null float64\n",
      "dtypes: float64(4), object(1)\n",
      "memory usage: 3.8+ MB\n",
      "None\n",
      "-------------------------------------------------------------------------------------------------------------\n",
      "**Просмотр статистических данных**\n",
      "                  f0             f1             f2        product\n",
      "count  100000.000000  100000.000000  100000.000000  100000.000000\n",
      "mean        1.141296      -4.796579       2.494541      68.825000\n",
      "std         8.965932       5.119872       1.703572      45.944423\n",
      "min       -31.609576     -26.358598      -0.018144       0.000000\n",
      "25%        -6.298551      -8.267985       1.000021      26.953261\n",
      "50%         1.153055      -4.813172       2.011479      57.085625\n",
      "75%         8.621015      -1.332816       3.999904     107.813044\n",
      "max        29.421755      18.734063       5.019721     137.945408\n",
      "-------------------------------------------------------------------------------------------------------------\n",
      "**Вывод рандомных строк датафрейма**\n",
      "          id         f0         f1        f2    product\n",
      "43660  lkoIC   2.365991   7.466907  2.990761  80.859783\n",
      "87278  CUVk0  13.475920 -10.191469 -0.000108   0.000000\n",
      "14317  A4aSR   9.993776 -15.519432  2.011834  53.906522\n",
      "-------------------------------------------------------------------------------------------------------------\n",
      "**Вывод первых пяти строк датафрейма**\n",
      "      id         f0         f1        f2     product\n",
      "0  kBEdx -15.001348  -8.276000 -0.005876    3.179103\n",
      "1  62mP7  14.272088  -3.475083  0.999183   26.953261\n",
      "2  vyE1P   6.263187  -5.948386  5.001160  134.766305\n",
      "3  KcrkZ -13.081196 -11.506057  4.999415  137.945408\n",
      "4  AHL4O  12.702195  -8.147433  5.004363  134.766305\n",
      "-------------------------------------------------------------------------------------------------------------\n",
      "**Вывод количесва дубликатов датафрейма**\n",
      "0\n",
      "-------------------------------------------------------------------------------------------------------------\n",
      "**Вывод количесва пропущеных значений датафрейма**\n",
      "id         0\n",
      "f0         0\n",
      "f1         0\n",
      "f2         0\n",
      "product    0\n",
      "dtype: int64\n",
      "-------------------------------------------------------------------------------------------------------------\n",
      "None\n",
      "**Общая информация датафрейма**\n",
      "<class 'pandas.core.frame.DataFrame'>\n",
      "RangeIndex: 100000 entries, 0 to 99999\n",
      "Data columns (total 5 columns):\n",
      "id         100000 non-null object\n",
      "f0         100000 non-null float64\n",
      "f1         100000 non-null float64\n",
      "f2         100000 non-null float64\n",
      "product    100000 non-null float64\n",
      "dtypes: float64(4), object(1)\n",
      "memory usage: 3.8+ MB\n",
      "None\n",
      "-------------------------------------------------------------------------------------------------------------\n",
      "**Просмотр статистических данных**\n",
      "                  f0             f1             f2        product\n",
      "count  100000.000000  100000.000000  100000.000000  100000.000000\n",
      "mean        0.002023      -0.002081       2.495128      95.000000\n",
      "std         1.732045       1.730417       3.473445      44.749921\n",
      "min        -8.760004      -7.084020     -11.970335       0.000000\n",
      "25%        -1.162288      -1.174820       0.130359      59.450441\n",
      "50%         0.009424      -0.009482       2.484236      94.925613\n",
      "75%         1.158535       1.163678       4.858794     130.595027\n",
      "max         7.238262       7.844801      16.739402     190.029838\n",
      "-------------------------------------------------------------------------------------------------------------\n",
      "**Вывод рандомных строк датафрейма**\n",
      "          id        f0        f1        f2     product\n",
      "43660  dCoRV -0.804419  0.910995  2.886761  102.734478\n",
      "87278  TFdxM -0.401696 -0.024390 -1.195403   72.411400\n",
      "14317  wV83L  0.101773 -1.699503  1.509664   27.076410\n",
      "-------------------------------------------------------------------------------------------------------------\n",
      "**Вывод первых пяти строк датафрейма**\n",
      "      id        f0        f1        f2     product\n",
      "0  fwXo0 -1.146987  0.963328 -0.828965   27.758673\n",
      "1  WJtFt  0.262778  0.269839 -2.530187   56.069697\n",
      "2  ovLUW  0.194587  0.289035 -5.586433   62.871910\n",
      "3  q6cA6  2.236060 -0.553760  0.930038  114.572842\n",
      "4  WPMUX -0.515993  1.716266  5.899011  149.600746\n",
      "-------------------------------------------------------------------------------------------------------------\n",
      "**Вывод количесва дубликатов датафрейма**\n",
      "0\n",
      "-------------------------------------------------------------------------------------------------------------\n",
      "**Вывод количесва пропущеных значений датафрейма**\n",
      "id         0\n",
      "f0         0\n",
      "f1         0\n",
      "f2         0\n",
      "product    0\n",
      "dtype: int64\n",
      "-------------------------------------------------------------------------------------------------------------\n",
      "None\n"
     ]
    }
   ],
   "source": [
    "def fun_date(data):\n",
    "    print('**Общая информация датафрейма**')\n",
    "    print(data.info())\n",
    "    print('-------------------------------------------------------------------------------------------------------------')\n",
    "    print('**Просмотр статистических данных**')\n",
    "    print(data.describe())\n",
    "    print('-------------------------------------------------------------------------------------------------------------')\n",
    "    print('**Вывод рандомных строк датафрейма**')\n",
    "    print(data.sample(n=3, random_state=1))\n",
    "    print('-------------------------------------------------------------------------------------------------------------')\n",
    "    print('**Вывод первых пяти строк датафрейма**')\n",
    "    print(data.head())\n",
    "    print('-------------------------------------------------------------------------------------------------------------')\n",
    "    print('**Вывод количесва дубликатов датафрейма**')\n",
    "    print(data.duplicated().sum())\n",
    "    print('-------------------------------------------------------------------------------------------------------------')\n",
    "    print('**Вывод количесва пропущеных значений датафрейма**')\n",
    "    print(data.isnull().sum())\n",
    "    print('-------------------------------------------------------------------------------------------------------------')\n",
    "print(fun_date(data0))\n",
    "print(fun_date(data1))\n",
    "print(fun_date(data2))"
   ]
  },
  {
   "cell_type": "code",
   "execution_count": 7,
   "metadata": {},
   "outputs": [
    {
     "data": {
      "text/plain": [
       "10"
      ]
     },
     "execution_count": 7,
     "metadata": {},
     "output_type": "execute_result"
    }
   ],
   "source": [
    "data0['id'].duplicated().sum()"
   ]
  },
  {
   "cell_type": "code",
   "execution_count": 8,
   "metadata": {},
   "outputs": [
    {
     "data": {
      "text/plain": [
       "4"
      ]
     },
     "execution_count": 8,
     "metadata": {},
     "output_type": "execute_result"
    }
   ],
   "source": [
    "data1['id'].duplicated().sum()"
   ]
  },
  {
   "cell_type": "code",
   "execution_count": 9,
   "metadata": {},
   "outputs": [
    {
     "data": {
      "text/plain": [
       "4"
      ]
     },
     "execution_count": 9,
     "metadata": {},
     "output_type": "execute_result"
    }
   ],
   "source": [
    "data2['id'].duplicated().sum()"
   ]
  },
  {
   "cell_type": "code",
   "execution_count": 10,
   "metadata": {},
   "outputs": [
    {
     "name": "stdout",
     "output_type": "stream",
     "text": [
      "      id        f0        f1        f2     product\n",
      "0  fwXo0 -1.146987  0.963328 -0.828965   27.758673\n",
      "1  WJtFt  0.262778  0.269839 -2.530187   56.069697\n",
      "2  ovLUW  0.194587  0.289035 -5.586433   62.871910\n",
      "3  q6cA6  2.236060 -0.553760  0.930038  114.572842\n",
      "4  WPMUX -0.515993  1.716266  5.899011  149.600746\n"
     ]
    },
    {
     "data": {
      "text/html": [
       "<div>\n",
       "<style scoped>\n",
       "    .dataframe tbody tr th:only-of-type {\n",
       "        vertical-align: middle;\n",
       "    }\n",
       "\n",
       "    .dataframe tbody tr th {\n",
       "        vertical-align: top;\n",
       "    }\n",
       "\n",
       "    .dataframe thead th {\n",
       "        text-align: right;\n",
       "    }\n",
       "</style>\n",
       "<table border=\"1\" class=\"dataframe\">\n",
       "  <thead>\n",
       "    <tr style=\"text-align: right;\">\n",
       "      <th></th>\n",
       "      <th>id</th>\n",
       "      <th>f0</th>\n",
       "      <th>f1</th>\n",
       "      <th>f2</th>\n",
       "      <th>product</th>\n",
       "    </tr>\n",
       "  </thead>\n",
       "  <tbody>\n",
       "    <tr>\n",
       "      <td>0</td>\n",
       "      <td>fwXo0</td>\n",
       "      <td>-1.146987</td>\n",
       "      <td>0.963328</td>\n",
       "      <td>-0.828965</td>\n",
       "      <td>27.758673</td>\n",
       "    </tr>\n",
       "    <tr>\n",
       "      <td>1</td>\n",
       "      <td>WJtFt</td>\n",
       "      <td>0.262778</td>\n",
       "      <td>0.269839</td>\n",
       "      <td>-2.530187</td>\n",
       "      <td>56.069697</td>\n",
       "    </tr>\n",
       "    <tr>\n",
       "      <td>2</td>\n",
       "      <td>ovLUW</td>\n",
       "      <td>0.194587</td>\n",
       "      <td>0.289035</td>\n",
       "      <td>-5.586433</td>\n",
       "      <td>62.871910</td>\n",
       "    </tr>\n",
       "    <tr>\n",
       "      <td>3</td>\n",
       "      <td>q6cA6</td>\n",
       "      <td>2.236060</td>\n",
       "      <td>-0.553760</td>\n",
       "      <td>0.930038</td>\n",
       "      <td>114.572842</td>\n",
       "    </tr>\n",
       "    <tr>\n",
       "      <td>4</td>\n",
       "      <td>WPMUX</td>\n",
       "      <td>-0.515993</td>\n",
       "      <td>1.716266</td>\n",
       "      <td>5.899011</td>\n",
       "      <td>149.600746</td>\n",
       "    </tr>\n",
       "  </tbody>\n",
       "</table>\n",
       "</div>"
      ],
      "text/plain": [
       "      id        f0        f1        f2     product\n",
       "0  fwXo0 -1.146987  0.963328 -0.828965   27.758673\n",
       "1  WJtFt  0.262778  0.269839 -2.530187   56.069697\n",
       "2  ovLUW  0.194587  0.289035 -5.586433   62.871910\n",
       "3  q6cA6  2.236060 -0.553760  0.930038  114.572842\n",
       "4  WPMUX -0.515993  1.716266  5.899011  149.600746"
      ]
     },
     "metadata": {},
     "output_type": "display_data"
    }
   ],
   "source": [
    "# код ревьюера\n",
    "print(data2.head())\n",
    "display(data2.head())"
   ]
  },
  {
   "cell_type": "markdown",
   "metadata": {},
   "source": [
    "<font color='blue'>Все датафреймы выведены. Выведена вся информация по каждому датафрейму, данные готовы к работе.</font>"
   ]
  },
  {
   "cell_type": "markdown",
   "metadata": {},
   "source": [
    "## Обучение и проверка модели"
   ]
  },
  {
   "cell_type": "code",
   "execution_count": 11,
   "metadata": {},
   "outputs": [
    {
     "name": "stdout",
     "output_type": "stream",
     "text": [
      "Обучающая выборка первого датафрейма: (75000, 3)\n",
      "(75000,)\n",
      "Валидационная выборка первого датафрейма: (25000, 3)\n",
      "(25000,)\n",
      "\n",
      "Обучающая выборка второго датафрейма: (75000, 3)\n",
      "(75000,)\n",
      "Валидационная выборка второго датафрейма: (25000, 3)\n",
      "(25000,)\n",
      "\n",
      "Обучающая выборка третьего датафрейма: (75000, 3)\n",
      "(75000,)\n",
      "Валидационная выборка третьего датафрейма: (25000, 3)\n",
      "(25000,)\n"
     ]
    }
   ],
   "source": [
    "data0_train, data0_valid = train_test_split(data0, test_size=0.25, random_state=12345)\n",
    "data1_train, data1_valid = train_test_split(data1, test_size=0.25, random_state=12345)\n",
    "data2_train, data2_valid = train_test_split(data2, test_size=0.25, random_state=12345)\n",
    "\n",
    "\n",
    "features_train0 = data0_train.drop(['id', 'product'], axis=1)\n",
    "target_train0 = data0_train['product']\n",
    "features_valid0 = data0_valid.drop(['id', 'product'], axis=1)\n",
    "target_valid0 = data0_valid['product']\n",
    "\n",
    "features_train1 = data1_train.drop(['id', 'product'], axis=1)\n",
    "target_train1 = data1_train['product']\n",
    "features_valid1 = data1_valid.drop(['id', 'product'], axis=1)\n",
    "target_valid1 = data1_valid['product']\n",
    "\n",
    "features_train2 = data2_train.drop(['id', 'product'], axis=1)\n",
    "target_train2 = data2_train['product']\n",
    "features_valid2 = data2_valid.drop(['id', 'product'], axis=1)\n",
    "target_valid2 = data2_valid['product']\n",
    "\n",
    "print('Обучающая выборка первого датафрейма:',features_train0.shape)\n",
    "print(target_train0.shape)\n",
    "print('Валидационная выборка первого датафрейма:',features_valid0.shape)\n",
    "print(target_valid0.shape)\n",
    "print()\n",
    "print('Обучающая выборка второго датафрейма:',features_train1.shape)\n",
    "print(target_train1.shape)\n",
    "print('Валидационная выборка второго датафрейма:',features_valid1.shape)\n",
    "print(target_valid1.shape)\n",
    "print()\n",
    "print('Обучающая выборка третьего датафрейма:',features_train2.shape)\n",
    "print(target_train2.shape)\n",
    "print('Валидационная выборка третьего датафрейма:',features_valid2.shape)\n",
    "print(target_valid2.shape)"
   ]
  },
  {
   "cell_type": "code",
   "execution_count": 12,
   "metadata": {},
   "outputs": [
    {
     "name": "stdout",
     "output_type": "stream",
     "text": [
      "Средний предсказанный запас предсказанного сырья в месторождении 92.59256778438038\n",
      "Средний фактический запас сырья в месторождении 92.07859674082927\n",
      "RMSE модели линейной регрессии на валидационной выборке: 37.5794217150813\n"
     ]
    }
   ],
   "source": [
    "#Месторождение 1\n",
    "model = LinearRegression()\n",
    "model.fit(features_train0,target_train0) # обучение модели на тренировочной выборке\n",
    "predictions_valid = model.predict(features_valid0) # предсказания модели на валидационной выборке\n",
    "data0_pred_mean=predictions_valid.mean()\n",
    "result = mean_squared_error(target_valid0,predictions_valid)**0.5\n",
    "data0_predictions_valid = model.predict(features_valid0)\n",
    "\n",
    "print(\"Средний предсказанный запас предсказанного сырья в месторождении\", data0_pred_mean)\n",
    "print(\"Средний фактический запас сырья в месторождении\", target_valid0.mean())\n",
    "print(\"RMSE модели линейной регрессии на валидационной выборке:\", result)"
   ]
  },
  {
   "cell_type": "code",
   "execution_count": 13,
   "metadata": {},
   "outputs": [
    {
     "name": "stdout",
     "output_type": "stream",
     "text": [
      "Средний предсказанный запас предсказанного сырья в месторождении 68.728546895446\n",
      "Средний фактический запас сырья в месторождении 68.72313602435997\n",
      "RMSE модели линейной регрессии на валидационной выборке: 0.893099286775616\n"
     ]
    }
   ],
   "source": [
    "#Месторождение 2\n",
    "model = LinearRegression()\n",
    "model.fit(features_train1,target_train1) # обучение модели на тренировочной выборке\n",
    "predictions_valid = model.predict(features_valid1) # предсказания модели на валидационной выборке\n",
    "data1_pred_mean=predictions_valid.mean()\n",
    "result = mean_squared_error(target_valid1,predictions_valid)**0.5\n",
    "data1_predictions_valid = model.predict(features_valid1)\n",
    "\n",
    "print(\"Средний предсказанный запас предсказанного сырья в месторождении\", data1_pred_mean)\n",
    "print(\"Средний фактический запас сырья в месторождении\", target_valid1.mean())\n",
    "print(\"RMSE модели линейной регрессии на валидационной выборке:\", result)"
   ]
  },
  {
   "cell_type": "code",
   "execution_count": 14,
   "metadata": {},
   "outputs": [
    {
     "name": "stdout",
     "output_type": "stream",
     "text": [
      "Средний предсказанный запас предсказанного сырья в месторождении 94.96504596800489\n",
      "Средний фактический запас сырья в месторождении 94.88423280885438\n",
      "RMSE модели линейной регрессии на валидационной выборке: 40.02970873393434\n"
     ]
    }
   ],
   "source": [
    "#Месторождение 3\n",
    "model = LinearRegression()\n",
    "model.fit(features_train2,target_train2) # обучение модели на тренировочной выборке\n",
    "predictions_valid = model.predict(features_valid2) # предсказания модели на валидационной выборке\n",
    "data2_pred_mean=predictions_valid.mean()\n",
    "result = mean_squared_error(target_valid2,predictions_valid)**0.5\n",
    "data2_predictions_valid = model.predict(features_valid2)\n",
    "\n",
    "print(\"Средний предсказанный запас предсказанного сырья в месторождении\", data2_pred_mean)\n",
    "print(\"Средний фактический запас сырья в месторождении\", target_valid2.mean())\n",
    "print(\"RMSE модели линейной регрессии на валидационной выборке:\", result)"
   ]
  },
  {
   "cell_type": "markdown",
   "metadata": {},
   "source": [
    "<font color='blue'>Судя по показателю RSME самым выгодным явлеется второе месторождение, но оно очень уступает по запасам сырья в отличие от остальных.</font>"
   ]
  },
  {
   "cell_type": "markdown",
   "metadata": {},
   "source": [
    "## Подготовка к расчёту прибыли"
   ]
  },
  {
   "cell_type": "code",
   "execution_count": 15,
   "metadata": {},
   "outputs": [
    {
     "name": "stdout",
     "output_type": "stream",
     "text": [
      "50000000.0\n",
      "111.11111111111111\n",
      "Объём сырья для безубыточной разработки новой скважины 1 месторождения: 19.032514370281845\n",
      "Объём сырья для безубыточной разработки новой скважины 2 месторождения: 42.38797508675114\n",
      "Объём сырья для безубыточной разработки новой скважины 3 месторождения: 16.226878302256736\n"
     ]
    }
   ],
   "source": [
    "#Сколько денег выделяют на каждую скважину\n",
    "\n",
    "MONEY_ONE_SKVAJ=10_000_000_000/200\n",
    "print(MONEY_ONE_SKVAJ)\n",
    "#сколько нужно тысяч баррелей для того, чтобы окупить затраты\n",
    "COUNT_BARR=MONEY_ONE_SKVAJ/450000\n",
    "\n",
    "print(COUNT_BARR)\n",
    "data0_mean=92.07859674082927\n",
    "data1_mean=68.72313602435997\n",
    "data2_mean=94.88423280885438\n",
    "print('Объём сырья для безубыточной разработки новой скважины 1 месторождения:',COUNT_BARR-data0_mean)\n",
    "print('Объём сырья для безубыточной разработки новой скважины 2 месторождения:',COUNT_BARR-data1_mean)\n",
    "print('Объём сырья для безубыточной разработки новой скважины 3 месторождения:',COUNT_BARR-data2_mean)"
   ]
  },
  {
   "cell_type": "markdown",
   "metadata": {},
   "source": [
    "<font color='blue'>Второе месторождение получается слишком затратным на первый взгляд, посмотрим как оно себя проявит позже\n",
    "</font>"
   ]
  },
  {
   "cell_type": "markdown",
   "metadata": {},
   "source": [
    "## Расчёт прибыли и рисков "
   ]
  },
  {
   "cell_type": "code",
   "execution_count": 16,
   "metadata": {},
   "outputs": [],
   "source": [
    "def profit(target, predictions, count):\n",
    "    profit=0\n",
    "    probs_sorted = predictions.sort_values(ascending=False).head(200)\n",
    "    selected = target[probs_sorted.index][:count] \n",
    "    for top in selected:\n",
    "        profit+=(top-COUNT_BARR)*450000\n",
    "    return profit\n",
    "\n"
   ]
  },
  {
   "cell_type": "code",
   "execution_count": 17,
   "metadata": {},
   "outputs": [
    {
     "name": "stdout",
     "output_type": "stream",
     "text": [
      "Прибиыльность 200 топовых скважин валидационной выборки 3321 млн.\n"
     ]
    }
   ],
   "source": [
    "data0_valid['product_pred']=data0_predictions_valid\n",
    "\n",
    "profit0=profit(data0_valid['product'], data0_valid['product_pred'],200)\n",
    "print(\"Прибиыльность 200 топовых скважин валидационной выборки\", round(profit0/1000000), \"млн.\")"
   ]
  },
  {
   "cell_type": "code",
   "execution_count": 18,
   "metadata": {},
   "outputs": [
    {
     "name": "stdout",
     "output_type": "stream",
     "text": [
      "Прибиыльность 200 топовых скважин валидационной выборки 2415 млн.\n"
     ]
    }
   ],
   "source": [
    "data1_valid['product_pred']=data1_predictions_valid\n",
    "\n",
    "profit1=profit(data1_valid['product'], data1_valid['product_pred'],200)\n",
    "print(\"Прибиыльность 200 топовых скважин валидационной выборки\", round(profit1/1000000), \"млн.\")"
   ]
  },
  {
   "cell_type": "code",
   "execution_count": 19,
   "metadata": {},
   "outputs": [
    {
     "name": "stdout",
     "output_type": "stream",
     "text": [
      "Прибиыльность 200 топовых скважин валидационной выборки 2710 млн.\n"
     ]
    }
   ],
   "source": [
    "data2_valid['product_pred']=data2_predictions_valid\n",
    "\n",
    "profit2=profit(data2_valid['product'], data2_valid['product_pred'],200)\n",
    "print(\"Прибиыльность 200 топовых скважин валидационной выборки\", round(profit2/1000000), \"млн.\")"
   ]
  },
  {
   "cell_type": "code",
   "execution_count": 20,
   "metadata": {},
   "outputs": [
    {
     "name": "stdout",
     "output_type": "stream",
     "text": [
      "Для первого месторождения\n",
      "Вероятность убытков 7.6 %\n",
      "Среднее значение бутстрепа 403.535244261165 млн.\n",
      "Верхняя граница доверительного интервала 931574367.5508462\n",
      "Нижняя граница доверительного интервала -118327362.12311192\n",
      "\n",
      "\n",
      "Для второго месторождения\n",
      "Вероятность убытков 1.7 %\n",
      "Среднее значение бутстрепа 465.04105822107704 млн.\n",
      "Верхняя граница доверительного интервала 864388463.3254703\n",
      "Нижняя граница доверительного интервала 32036742.850023583\n",
      "\n",
      "\n",
      "Для третьего месторождения\n",
      "Вероятность убытков 7.9 %\n",
      "Среднее значение бутстрепа 414.2097228409675 млн.\n",
      "Верхняя граница доверительного интервала 972339167.9202832\n",
      "Нижняя граница доверительного интервала -148373898.68249193\n",
      "\n"
     ]
    }
   ],
   "source": [
    "def boots (target, predictions):\n",
    "    state = np.random.RandomState(12345)\n",
    "    values = []\n",
    "    counter=0\n",
    "    for i in range(1000):\n",
    "        target_subsample = target.sample(n=500, replace=True, random_state=state)\n",
    "        preds_subsample = predictions[target_subsample.index]\n",
    "        \n",
    "        values.append(profit(target_subsample, preds_subsample, 500))\n",
    "        \n",
    "    values = pd.Series(values)\n",
    "    lower = values.quantile(0.025)\n",
    "    higher = values.quantile(0.975)\n",
    "    \n",
    "    print('Вероятность убытков',stats.percentileofscore(values, 0),'%')\n",
    "    print(\"Среднее значение бутстрепа\", (values.mean())/1000000, \"млн.\")\n",
    "    print(\"Верхняя граница доверительного интервала\", higher)\n",
    "    print(\"Нижняя граница доверительного интервала\", lower)\n",
    "    print()\n",
    "print(\"Для первого месторождения\")\n",
    "boots(data0_valid['product'], data0_valid['product_pred'])\n",
    "print()\n",
    "print(\"Для второго месторождения\")\n",
    "boots(data1_valid['product'], data1_valid['product_pred'])\n",
    "print()\n",
    "print(\"Для третьего месторождения\")\n",
    "boots(data2_valid['product'], data2_valid['product_pred'])\n",
    "\n",
    "\n",
    "\n",
    "\n",
    "\n",
    "\n",
    "\n"
   ]
  },
  {
   "cell_type": "markdown",
   "metadata": {},
   "source": [
    "Исходя из всего проведенного анализа, можно смело заявить, что второе месторождение самое выгодное, об этом говорит и показатель RMSE и процент убытков. Да, оно конечно слегка проседает по прибыльности с 200 скважен, но я думаю игра стоит свечь, хотябы можно быть увереным в стабильности дохода."
   ]
  },
  {
   "cell_type": "code",
   "execution_count": null,
   "metadata": {},
   "outputs": [],
   "source": []
  }
 ],
 "metadata": {
  "ExecuteTimeLog": [
   {
    "duration": 1576,
    "start_time": "2021-08-18T11:56:43.931Z"
   },
   {
    "duration": 5,
    "start_time": "2021-08-18T11:56:45.713Z"
   },
   {
    "duration": 2571,
    "start_time": "2021-08-18T11:57:23.505Z"
   },
   {
    "duration": 2669,
    "start_time": "2021-08-18T11:57:47.345Z"
   },
   {
    "duration": 1335,
    "start_time": "2021-08-18T12:01:37.056Z"
   },
   {
    "duration": 2634,
    "start_time": "2021-08-18T12:01:38.394Z"
   },
   {
    "duration": 200,
    "start_time": "2021-08-18T12:01:51.759Z"
   },
   {
    "duration": 165,
    "start_time": "2021-08-18T12:01:56.861Z"
   },
   {
    "duration": 165,
    "start_time": "2021-08-18T12:02:22.159Z"
   },
   {
    "duration": 227,
    "start_time": "2021-08-18T12:02:51.126Z"
   },
   {
    "duration": 165,
    "start_time": "2021-08-18T12:04:57.502Z"
   },
   {
    "duration": 167,
    "start_time": "2021-08-18T12:05:02.317Z"
   },
   {
    "duration": 159,
    "start_time": "2021-08-18T12:05:29.516Z"
   },
   {
    "duration": 171,
    "start_time": "2021-08-18T12:05:36.396Z"
   },
   {
    "duration": 606,
    "start_time": "2021-08-18T12:06:23.389Z"
   },
   {
    "duration": 441,
    "start_time": "2021-08-18T12:06:51.148Z"
   },
   {
    "duration": 345,
    "start_time": "2021-08-18T12:07:02.357Z"
   },
   {
    "duration": 1351,
    "start_time": "2021-08-18T12:07:11.119Z"
   },
   {
    "duration": 178,
    "start_time": "2021-08-18T12:07:12.473Z"
   },
   {
    "duration": 162,
    "start_time": "2021-08-18T12:07:12.654Z"
   },
   {
    "duration": 169,
    "start_time": "2021-08-18T12:07:12.818Z"
   },
   {
    "duration": 652,
    "start_time": "2021-08-18T12:07:12.989Z"
   },
   {
    "duration": 139,
    "start_time": "2021-08-18T12:07:27.516Z"
   },
   {
    "duration": 138,
    "start_time": "2021-08-18T12:07:38.724Z"
   },
   {
    "duration": 1353,
    "start_time": "2021-08-18T12:07:59.622Z"
   },
   {
    "duration": 184,
    "start_time": "2021-08-18T12:08:00.977Z"
   },
   {
    "duration": 165,
    "start_time": "2021-08-18T12:08:01.167Z"
   },
   {
    "duration": 168,
    "start_time": "2021-08-18T12:08:01.335Z"
   },
   {
    "duration": 174,
    "start_time": "2021-08-18T12:08:01.506Z"
   },
   {
    "duration": 158,
    "start_time": "2021-08-18T12:08:01.683Z"
   },
   {
    "duration": 174,
    "start_time": "2021-08-18T12:08:01.843Z"
   },
   {
    "duration": 152,
    "start_time": "2021-08-18T12:08:49.647Z"
   },
   {
    "duration": 518,
    "start_time": "2021-08-18T12:21:17.321Z"
   },
   {
    "duration": 296,
    "start_time": "2021-08-18T12:21:24.049Z"
   },
   {
    "duration": 1306,
    "start_time": "2021-08-18T12:21:30.820Z"
   },
   {
    "duration": 284,
    "start_time": "2021-08-18T12:21:32.128Z"
   },
   {
    "duration": 166,
    "start_time": "2021-08-18T12:21:32.415Z"
   },
   {
    "duration": 178,
    "start_time": "2021-08-18T12:21:32.584Z"
   },
   {
    "duration": 166,
    "start_time": "2021-08-18T12:21:32.768Z"
   },
   {
    "duration": 157,
    "start_time": "2021-08-18T12:21:32.937Z"
   },
   {
    "duration": 149,
    "start_time": "2021-08-18T12:21:33.096Z"
   },
   {
    "duration": 524,
    "start_time": "2021-08-18T12:21:33.248Z"
   },
   {
    "duration": 77,
    "start_time": "2021-08-18T12:30:45.700Z"
   },
   {
    "duration": 88,
    "start_time": "2021-08-18T12:31:37.318Z"
   },
   {
    "duration": 72,
    "start_time": "2021-08-18T12:31:52.805Z"
   },
   {
    "duration": 70,
    "start_time": "2021-08-18T12:45:32.584Z"
   },
   {
    "duration": 299,
    "start_time": "2021-08-18T12:47:10.455Z"
   },
   {
    "duration": 376,
    "start_time": "2021-08-18T12:53:18.825Z"
   },
   {
    "duration": 23,
    "start_time": "2021-08-18T12:53:36.331Z"
   },
   {
    "duration": 16,
    "start_time": "2021-08-18T12:53:47.915Z"
   },
   {
    "duration": 428,
    "start_time": "2021-08-18T13:00:34.008Z"
   },
   {
    "duration": 1389,
    "start_time": "2021-08-18T13:00:52.683Z"
   },
   {
    "duration": 184,
    "start_time": "2021-08-18T13:00:54.075Z"
   },
   {
    "duration": 172,
    "start_time": "2021-08-18T13:00:54.263Z"
   },
   {
    "duration": 172,
    "start_time": "2021-08-18T13:00:54.438Z"
   },
   {
    "duration": 164,
    "start_time": "2021-08-18T13:00:54.613Z"
   },
   {
    "duration": 154,
    "start_time": "2021-08-18T13:00:54.779Z"
   },
   {
    "duration": 170,
    "start_time": "2021-08-18T13:00:54.935Z"
   },
   {
    "duration": 92,
    "start_time": "2021-08-18T13:00:55.107Z"
   },
   {
    "duration": 533,
    "start_time": "2021-08-18T13:00:55.203Z"
   },
   {
    "duration": 16,
    "start_time": "2021-08-18T13:01:02.589Z"
   },
   {
    "duration": 16,
    "start_time": "2021-08-18T13:01:07.949Z"
   },
   {
    "duration": 29,
    "start_time": "2021-08-18T13:01:24.437Z"
   },
   {
    "duration": 16,
    "start_time": "2021-08-18T13:01:30.293Z"
   },
   {
    "duration": 373,
    "start_time": "2021-08-18T13:06:17.326Z"
   },
   {
    "duration": 79,
    "start_time": "2021-08-18T13:07:55.986Z"
   },
   {
    "duration": 5,
    "start_time": "2021-08-18T13:12:00.552Z"
   },
   {
    "duration": 351,
    "start_time": "2021-08-18T13:12:01.336Z"
   },
   {
    "duration": 4,
    "start_time": "2021-08-18T13:15:28.118Z"
   },
   {
    "duration": 387,
    "start_time": "2021-08-18T13:15:28.309Z"
   },
   {
    "duration": 377,
    "start_time": "2021-08-18T13:15:55.422Z"
   },
   {
    "duration": 374,
    "start_time": "2021-08-18T13:18:08.917Z"
   },
   {
    "duration": 25,
    "start_time": "2021-08-18T13:23:14.258Z"
   },
   {
    "duration": 87,
    "start_time": "2021-08-18T13:24:07.481Z"
   },
   {
    "duration": 20,
    "start_time": "2021-08-18T13:26:10.119Z"
   },
   {
    "duration": 477,
    "start_time": "2021-08-18T13:26:56.743Z"
   },
   {
    "duration": 335,
    "start_time": "2021-08-18T13:27:24.127Z"
   },
   {
    "duration": 1704,
    "start_time": "2021-08-18T13:27:33.351Z"
   },
   {
    "duration": 240,
    "start_time": "2021-08-18T13:27:35.058Z"
   },
   {
    "duration": 201,
    "start_time": "2021-08-18T13:27:35.302Z"
   },
   {
    "duration": 197,
    "start_time": "2021-08-18T13:27:35.506Z"
   },
   {
    "duration": 175,
    "start_time": "2021-08-18T13:27:35.705Z"
   },
   {
    "duration": 168,
    "start_time": "2021-08-18T13:27:35.883Z"
   },
   {
    "duration": 175,
    "start_time": "2021-08-18T13:27:36.053Z"
   },
   {
    "duration": 95,
    "start_time": "2021-08-18T13:27:36.232Z"
   },
   {
    "duration": 5,
    "start_time": "2021-08-18T13:27:36.330Z"
   },
   {
    "duration": 563,
    "start_time": "2021-08-18T13:27:36.337Z"
   },
   {
    "duration": -4877,
    "start_time": "2021-08-18T13:27:41.779Z"
   },
   {
    "duration": -4876,
    "start_time": "2021-08-18T13:27:41.780Z"
   },
   {
    "duration": 396,
    "start_time": "2021-08-18T13:28:04.325Z"
   },
   {
    "duration": 353,
    "start_time": "2021-08-18T13:28:21.125Z"
   },
   {
    "duration": 99,
    "start_time": "2021-08-18T13:28:31.870Z"
   },
   {
    "duration": 24,
    "start_time": "2021-08-18T13:29:04.901Z"
   },
   {
    "duration": 22,
    "start_time": "2021-08-18T13:29:29.540Z"
   },
   {
    "duration": 23,
    "start_time": "2021-08-18T13:29:57.652Z"
   },
   {
    "duration": 1496,
    "start_time": "2021-08-18T13:30:11.627Z"
   },
   {
    "duration": 261,
    "start_time": "2021-08-18T13:30:13.126Z"
   },
   {
    "duration": 190,
    "start_time": "2021-08-18T13:30:13.392Z"
   },
   {
    "duration": 175,
    "start_time": "2021-08-18T13:30:13.585Z"
   },
   {
    "duration": 171,
    "start_time": "2021-08-18T13:30:13.763Z"
   },
   {
    "duration": 161,
    "start_time": "2021-08-18T13:30:13.936Z"
   },
   {
    "duration": 190,
    "start_time": "2021-08-18T13:30:14.099Z"
   },
   {
    "duration": 97,
    "start_time": "2021-08-18T13:30:14.293Z"
   },
   {
    "duration": 175,
    "start_time": "2021-08-18T13:30:14.393Z"
   },
   {
    "duration": 102,
    "start_time": "2021-08-18T13:30:14.572Z"
   },
   {
    "duration": 199,
    "start_time": "2021-08-18T13:30:14.679Z"
   },
   {
    "duration": 4,
    "start_time": "2021-08-18T13:42:56.613Z"
   },
   {
    "duration": 5,
    "start_time": "2021-08-18T13:45:51.399Z"
   },
   {
    "duration": 498,
    "start_time": "2021-08-18T13:50:23.046Z"
   },
   {
    "duration": 7,
    "start_time": "2021-08-18T13:50:31.769Z"
   },
   {
    "duration": 5,
    "start_time": "2021-08-19T14:19:03.376Z"
   },
   {
    "duration": 4,
    "start_time": "2021-08-19T14:19:06.652Z"
   },
   {
    "duration": 150,
    "start_time": "2021-08-19T14:20:08.895Z"
   },
   {
    "duration": 4,
    "start_time": "2021-08-19T14:20:13.271Z"
   },
   {
    "duration": 1413,
    "start_time": "2021-08-19T14:26:00.854Z"
   },
   {
    "duration": 177,
    "start_time": "2021-08-19T14:26:02.269Z"
   },
   {
    "duration": 159,
    "start_time": "2021-08-19T14:26:02.461Z"
   },
   {
    "duration": 163,
    "start_time": "2021-08-19T14:26:02.622Z"
   },
   {
    "duration": 153,
    "start_time": "2021-08-19T14:26:02.787Z"
   },
   {
    "duration": 153,
    "start_time": "2021-08-19T14:26:02.942Z"
   },
   {
    "duration": 149,
    "start_time": "2021-08-19T14:26:03.099Z"
   },
   {
    "duration": 82,
    "start_time": "2021-08-19T14:26:03.262Z"
   },
   {
    "duration": 110,
    "start_time": "2021-08-19T14:26:03.362Z"
   },
   {
    "duration": 195,
    "start_time": "2021-08-19T14:26:03.476Z"
   },
   {
    "duration": 195,
    "start_time": "2021-08-19T14:26:03.674Z"
   },
   {
    "duration": 190,
    "start_time": "2021-08-19T14:26:03.872Z"
   },
   {
    "duration": 6,
    "start_time": "2021-08-19T14:26:04.065Z"
   },
   {
    "duration": 898,
    "start_time": "2021-08-19T14:26:04.074Z"
   },
   {
    "duration": 5,
    "start_time": "2021-08-19T14:26:29.722Z"
   },
   {
    "duration": 15,
    "start_time": "2021-08-19T14:26:31.083Z"
   },
   {
    "duration": 14,
    "start_time": "2021-08-19T14:26:39.763Z"
   },
   {
    "duration": 315,
    "start_time": "2021-08-19T14:27:13.218Z"
   },
   {
    "duration": 16,
    "start_time": "2021-08-19T14:27:35.839Z"
   },
   {
    "duration": 401,
    "start_time": "2021-08-19T14:27:37.226Z"
   },
   {
    "duration": 18,
    "start_time": "2021-08-19T14:27:41.466Z"
   },
   {
    "duration": 1319,
    "start_time": "2021-08-19T14:27:55.565Z"
   },
   {
    "duration": 187,
    "start_time": "2021-08-19T14:27:56.887Z"
   },
   {
    "duration": 245,
    "start_time": "2021-08-19T14:27:57.078Z"
   },
   {
    "duration": 257,
    "start_time": "2021-08-19T14:27:57.327Z"
   },
   {
    "duration": 219,
    "start_time": "2021-08-19T14:27:57.587Z"
   },
   {
    "duration": 205,
    "start_time": "2021-08-19T14:27:57.809Z"
   },
   {
    "duration": 207,
    "start_time": "2021-08-19T14:27:58.017Z"
   },
   {
    "duration": 101,
    "start_time": "2021-08-19T14:27:58.226Z"
   },
   {
    "duration": 39,
    "start_time": "2021-08-19T14:27:58.331Z"
   },
   {
    "duration": 110,
    "start_time": "2021-08-19T14:27:58.463Z"
   },
   {
    "duration": 195,
    "start_time": "2021-08-19T14:27:58.576Z"
   },
   {
    "duration": 97,
    "start_time": "2021-08-19T14:27:58.774Z"
   },
   {
    "duration": 5,
    "start_time": "2021-08-19T14:27:58.963Z"
   },
   {
    "duration": 19,
    "start_time": "2021-08-19T14:27:58.970Z"
   },
   {
    "duration": 14,
    "start_time": "2021-08-19T14:27:58.991Z"
   },
   {
    "duration": 56,
    "start_time": "2021-08-19T14:27:59.007Z"
   },
   {
    "duration": 14,
    "start_time": "2021-08-19T14:39:57.008Z"
   },
   {
    "duration": 739,
    "start_time": "2021-08-19T14:46:04.805Z"
   },
   {
    "duration": 1335,
    "start_time": "2021-08-19T14:46:43.448Z"
   },
   {
    "duration": 184,
    "start_time": "2021-08-19T14:46:44.786Z"
   },
   {
    "duration": 167,
    "start_time": "2021-08-19T14:46:44.973Z"
   },
   {
    "duration": 179,
    "start_time": "2021-08-19T14:46:45.142Z"
   },
   {
    "duration": 161,
    "start_time": "2021-08-19T14:46:45.323Z"
   },
   {
    "duration": 153,
    "start_time": "2021-08-19T14:46:45.487Z"
   },
   {
    "duration": 172,
    "start_time": "2021-08-19T14:46:45.645Z"
   },
   {
    "duration": 101,
    "start_time": "2021-08-19T14:46:45.820Z"
   },
   {
    "duration": 43,
    "start_time": "2021-08-19T14:46:45.924Z"
   },
   {
    "duration": 201,
    "start_time": "2021-08-19T14:46:45.971Z"
   },
   {
    "duration": 203,
    "start_time": "2021-08-19T14:46:46.175Z"
   },
   {
    "duration": 100,
    "start_time": "2021-08-19T14:46:46.464Z"
   },
   {
    "duration": 10,
    "start_time": "2021-08-19T14:46:46.566Z"
   },
   {
    "duration": 18,
    "start_time": "2021-08-19T14:46:46.579Z"
   },
   {
    "duration": 15,
    "start_time": "2021-08-19T14:46:46.599Z"
   },
   {
    "duration": 52,
    "start_time": "2021-08-19T14:46:46.617Z"
   },
   {
    "duration": 14551,
    "start_time": "2021-08-19T14:46:46.672Z"
   },
   {
    "duration": 15067,
    "start_time": "2021-08-19T14:47:23.467Z"
   },
   {
    "duration": 922,
    "start_time": "2021-08-19T14:49:24.114Z"
   },
   {
    "duration": 660,
    "start_time": "2021-08-19T14:49:58.482Z"
   },
   {
    "duration": 14903,
    "start_time": "2021-08-19T14:50:16.363Z"
   },
   {
    "duration": 15027,
    "start_time": "2021-08-19T14:52:19.017Z"
   },
   {
    "duration": 15238,
    "start_time": "2021-08-19T14:52:34.448Z"
   },
   {
    "duration": 15155,
    "start_time": "2021-08-19T14:53:34.089Z"
   },
   {
    "duration": 15132,
    "start_time": "2021-08-19T14:55:30.591Z"
   },
   {
    "duration": 1344,
    "start_time": "2021-08-19T14:56:32.801Z"
   },
   {
    "duration": 184,
    "start_time": "2021-08-19T14:56:34.148Z"
   },
   {
    "duration": 165,
    "start_time": "2021-08-19T14:56:34.334Z"
   },
   {
    "duration": 176,
    "start_time": "2021-08-19T14:56:34.502Z"
   },
   {
    "duration": 171,
    "start_time": "2021-08-19T14:56:34.681Z"
   },
   {
    "duration": 156,
    "start_time": "2021-08-19T14:56:34.855Z"
   },
   {
    "duration": 166,
    "start_time": "2021-08-19T14:56:35.014Z"
   },
   {
    "duration": 99,
    "start_time": "2021-08-19T14:56:35.183Z"
   },
   {
    "duration": 84,
    "start_time": "2021-08-19T14:56:35.284Z"
   },
   {
    "duration": 21,
    "start_time": "2021-08-19T14:56:35.461Z"
   },
   {
    "duration": 110,
    "start_time": "2021-08-19T14:56:35.563Z"
   },
   {
    "duration": 90,
    "start_time": "2021-08-19T14:56:35.675Z"
   },
   {
    "duration": 102,
    "start_time": "2021-08-19T14:56:35.769Z"
   },
   {
    "duration": 22,
    "start_time": "2021-08-19T14:56:35.874Z"
   },
   {
    "duration": 15,
    "start_time": "2021-08-19T14:56:35.898Z"
   },
   {
    "duration": 17,
    "start_time": "2021-08-19T14:56:35.915Z"
   },
   {
    "duration": 14974,
    "start_time": "2021-08-19T14:56:35.962Z"
   },
   {
    "duration": 14966,
    "start_time": "2021-08-19T16:59:30.333Z"
   },
   {
    "duration": 15117,
    "start_time": "2021-08-19T16:59:47.210Z"
   },
   {
    "duration": 1343,
    "start_time": "2021-08-19T17:42:57.115Z"
   },
   {
    "duration": 257,
    "start_time": "2021-08-19T17:42:58.463Z"
   },
   {
    "duration": 240,
    "start_time": "2021-08-19T17:42:58.724Z"
   },
   {
    "duration": 252,
    "start_time": "2021-08-19T17:42:58.968Z"
   },
   {
    "duration": 206,
    "start_time": "2021-08-19T17:42:59.223Z"
   },
   {
    "duration": 196,
    "start_time": "2021-08-19T17:42:59.432Z"
   },
   {
    "duration": 213,
    "start_time": "2021-08-19T17:42:59.632Z"
   },
   {
    "duration": 130,
    "start_time": "2021-08-19T17:42:59.848Z"
   },
   {
    "duration": 85,
    "start_time": "2021-08-19T17:42:59.982Z"
   },
   {
    "duration": 199,
    "start_time": "2021-08-19T17:43:00.070Z"
   },
   {
    "duration": 192,
    "start_time": "2021-08-19T17:43:00.272Z"
   },
   {
    "duration": 93,
    "start_time": "2021-08-19T17:43:00.472Z"
   },
   {
    "duration": 31,
    "start_time": "2021-08-19T17:43:00.567Z"
   },
   {
    "duration": 23,
    "start_time": "2021-08-19T17:43:00.601Z"
   },
   {
    "duration": 30,
    "start_time": "2021-08-19T17:43:00.626Z"
   },
   {
    "duration": 15,
    "start_time": "2021-08-19T17:43:00.662Z"
   },
   {
    "duration": 14813,
    "start_time": "2021-08-19T17:43:00.680Z"
   },
   {
    "duration": 14762,
    "start_time": "2021-08-19T17:43:15.495Z"
   },
   {
    "duration": 2213,
    "start_time": "2021-08-19T17:44:19.792Z"
   },
   {
    "duration": 635,
    "start_time": "2021-08-19T17:46:24.723Z"
   },
   {
    "duration": 1530,
    "start_time": "2021-08-19T17:48:21.151Z"
   },
   {
    "duration": 192,
    "start_time": "2021-08-19T17:48:22.684Z"
   },
   {
    "duration": 248,
    "start_time": "2021-08-19T17:48:22.880Z"
   },
   {
    "duration": 252,
    "start_time": "2021-08-19T17:48:23.131Z"
   },
   {
    "duration": 161,
    "start_time": "2021-08-19T17:48:23.386Z"
   },
   {
    "duration": 159,
    "start_time": "2021-08-19T17:48:23.550Z"
   },
   {
    "duration": 160,
    "start_time": "2021-08-19T17:48:23.712Z"
   },
   {
    "duration": 100,
    "start_time": "2021-08-19T17:48:23.875Z"
   },
   {
    "duration": 82,
    "start_time": "2021-08-19T17:48:23.980Z"
   },
   {
    "duration": 113,
    "start_time": "2021-08-19T17:48:24.066Z"
   },
   {
    "duration": 108,
    "start_time": "2021-08-19T17:48:24.265Z"
   },
   {
    "duration": 186,
    "start_time": "2021-08-19T17:48:24.376Z"
   },
   {
    "duration": 5,
    "start_time": "2021-08-19T17:48:24.564Z"
   },
   {
    "duration": 23,
    "start_time": "2021-08-19T17:48:24.571Z"
   },
   {
    "duration": 16,
    "start_time": "2021-08-19T17:48:24.596Z"
   },
   {
    "duration": 50,
    "start_time": "2021-08-19T17:48:24.614Z"
   },
   {
    "duration": 12594,
    "start_time": "2021-08-19T17:48:24.666Z"
   },
   {
    "duration": 27,
    "start_time": "2021-08-19T17:50:47.453Z"
   },
   {
    "duration": 9,
    "start_time": "2021-08-19T17:58:25.548Z"
   },
   {
    "duration": 957,
    "start_time": "2021-08-20T12:34:11.640Z"
   },
   {
    "duration": 129,
    "start_time": "2021-08-20T12:34:12.598Z"
   },
   {
    "duration": 126,
    "start_time": "2021-08-20T12:34:12.728Z"
   },
   {
    "duration": 119,
    "start_time": "2021-08-20T12:34:12.856Z"
   },
   {
    "duration": 87,
    "start_time": "2021-08-20T12:34:12.976Z"
   },
   {
    "duration": 87,
    "start_time": "2021-08-20T12:34:13.065Z"
   },
   {
    "duration": 88,
    "start_time": "2021-08-20T12:34:13.154Z"
   },
   {
    "duration": 74,
    "start_time": "2021-08-20T12:34:13.245Z"
   },
   {
    "duration": 15,
    "start_time": "2021-08-20T12:34:13.321Z"
   },
   {
    "duration": 106,
    "start_time": "2021-08-20T12:34:13.392Z"
   },
   {
    "duration": 194,
    "start_time": "2021-08-20T12:34:13.500Z"
   },
   {
    "duration": 97,
    "start_time": "2021-08-20T12:34:13.696Z"
   },
   {
    "duration": 3,
    "start_time": "2021-08-20T12:34:13.795Z"
   },
   {
    "duration": 11,
    "start_time": "2021-08-20T12:34:13.800Z"
   },
   {
    "duration": 8,
    "start_time": "2021-08-20T12:34:13.813Z"
   },
   {
    "duration": 8,
    "start_time": "2021-08-20T12:34:13.823Z"
   },
   {
    "duration": 6968,
    "start_time": "2021-08-20T12:34:13.833Z"
   },
   {
    "duration": 263,
    "start_time": "2021-08-20T19:45:27.063Z"
   },
   {
    "duration": 254,
    "start_time": "2021-08-20T20:41:12.837Z"
   },
   {
    "duration": 963,
    "start_time": "2021-08-20T20:41:18.439Z"
   },
   {
    "duration": 130,
    "start_time": "2021-08-20T20:41:19.404Z"
   },
   {
    "duration": 119,
    "start_time": "2021-08-20T20:41:19.539Z"
   },
   {
    "duration": 119,
    "start_time": "2021-08-20T20:41:19.660Z"
   },
   {
    "duration": 86,
    "start_time": "2021-08-20T20:41:19.781Z"
   },
   {
    "duration": 92,
    "start_time": "2021-08-20T20:41:19.869Z"
   },
   {
    "duration": 95,
    "start_time": "2021-08-20T20:41:19.964Z"
   },
   {
    "duration": 69,
    "start_time": "2021-08-20T20:41:20.061Z"
   },
   {
    "duration": 64,
    "start_time": "2021-08-20T20:41:20.132Z"
   },
   {
    "duration": 107,
    "start_time": "2021-08-20T20:41:20.198Z"
   },
   {
    "duration": 190,
    "start_time": "2021-08-20T20:41:20.308Z"
   },
   {
    "duration": 93,
    "start_time": "2021-08-20T20:41:20.501Z"
   },
   {
    "duration": 95,
    "start_time": "2021-08-20T20:41:20.597Z"
   },
   {
    "duration": 18,
    "start_time": "2021-08-20T20:41:20.693Z"
   },
   {
    "duration": 9,
    "start_time": "2021-08-20T20:41:20.713Z"
   },
   {
    "duration": 8,
    "start_time": "2021-08-20T20:41:20.724Z"
   },
   {
    "duration": 6802,
    "start_time": "2021-08-20T20:41:20.734Z"
   },
   {
    "duration": 230,
    "start_time": "2021-08-20T20:42:10.415Z"
   },
   {
    "duration": 1012,
    "start_time": "2021-08-20T20:43:58.082Z"
   },
   {
    "duration": 129,
    "start_time": "2021-08-20T20:43:59.096Z"
   },
   {
    "duration": 121,
    "start_time": "2021-08-20T20:43:59.229Z"
   },
   {
    "duration": 119,
    "start_time": "2021-08-20T20:43:59.351Z"
   },
   {
    "duration": 244,
    "start_time": "2021-08-20T20:43:59.471Z"
   },
   {
    "duration": 64,
    "start_time": "2021-08-20T20:43:59.716Z"
   },
   {
    "duration": 99,
    "start_time": "2021-08-20T20:43:59.792Z"
   },
   {
    "duration": 104,
    "start_time": "2021-08-20T20:43:59.893Z"
   },
   {
    "duration": 196,
    "start_time": "2021-08-20T20:44:00.000Z"
   },
   {
    "duration": 93,
    "start_time": "2021-08-20T20:44:00.202Z"
   },
   {
    "duration": 10,
    "start_time": "2021-08-20T20:44:00.297Z"
   },
   {
    "duration": 20,
    "start_time": "2021-08-20T20:44:00.309Z"
   },
   {
    "duration": 14,
    "start_time": "2021-08-20T20:44:00.331Z"
   },
   {
    "duration": 8,
    "start_time": "2021-08-20T20:44:00.347Z"
   },
   {
    "duration": 7167,
    "start_time": "2021-08-20T20:44:00.356Z"
   },
   {
    "duration": 84,
    "start_time": "2021-08-20T20:45:49.073Z"
   },
   {
    "duration": 121,
    "start_time": "2021-08-20T20:47:18.249Z"
   },
   {
    "duration": 36,
    "start_time": "2021-08-20T20:47:27.872Z"
   },
   {
    "duration": 16,
    "start_time": "2021-08-20T20:47:47.745Z"
   },
   {
    "duration": 224,
    "start_time": "2021-08-20T20:48:10.128Z"
   },
   {
    "duration": 14,
    "start_time": "2021-08-20T20:48:14.408Z"
   },
   {
    "duration": 14,
    "start_time": "2021-08-20T20:48:16.103Z"
   },
   {
    "duration": 17,
    "start_time": "2021-08-20T20:48:21.696Z"
   },
   {
    "duration": 16,
    "start_time": "2021-08-20T20:48:22.183Z"
   },
   {
    "duration": 15,
    "start_time": "2021-08-20T20:48:32.720Z"
   },
   {
    "duration": 13,
    "start_time": "2021-08-20T20:48:45.992Z"
   },
   {
    "duration": 79,
    "start_time": "2021-08-20T20:53:46.476Z"
   },
   {
    "duration": 326,
    "start_time": "2021-08-20T20:58:40.580Z"
   },
   {
    "duration": 4,
    "start_time": "2021-08-20T21:00:06.218Z"
   },
   {
    "duration": 3,
    "start_time": "2021-08-20T21:00:24.882Z"
   },
   {
    "duration": 3,
    "start_time": "2021-08-20T21:01:07.105Z"
   },
   {
    "duration": 934,
    "start_time": "2021-08-20T21:01:25.952Z"
   },
   {
    "duration": 131,
    "start_time": "2021-08-20T21:01:26.888Z"
   },
   {
    "duration": 117,
    "start_time": "2021-08-20T21:01:27.021Z"
   },
   {
    "duration": 118,
    "start_time": "2021-08-20T21:01:27.140Z"
   },
   {
    "duration": 253,
    "start_time": "2021-08-20T21:01:27.259Z"
   },
   {
    "duration": 15,
    "start_time": "2021-08-20T21:01:27.513Z"
   },
   {
    "duration": 18,
    "start_time": "2021-08-20T21:01:27.529Z"
   },
   {
    "duration": 15,
    "start_time": "2021-08-20T21:01:27.549Z"
   },
   {
    "duration": 83,
    "start_time": "2021-08-20T21:01:27.565Z"
   },
   {
    "duration": 46,
    "start_time": "2021-08-20T21:01:27.650Z"
   },
   {
    "duration": 195,
    "start_time": "2021-08-20T21:01:27.699Z"
   },
   {
    "duration": 103,
    "start_time": "2021-08-20T21:01:27.897Z"
   },
   {
    "duration": 94,
    "start_time": "2021-08-20T21:01:28.003Z"
   },
   {
    "duration": 93,
    "start_time": "2021-08-20T21:01:28.099Z"
   },
   {
    "duration": 6,
    "start_time": "2021-08-20T21:01:28.194Z"
   },
   {
    "duration": 13,
    "start_time": "2021-08-20T21:01:28.202Z"
   },
   {
    "duration": 8,
    "start_time": "2021-08-20T21:01:28.217Z"
   },
   {
    "duration": 8,
    "start_time": "2021-08-20T21:01:28.226Z"
   },
   {
    "duration": 7258,
    "start_time": "2021-08-20T21:01:28.235Z"
   },
   {
    "duration": 76,
    "start_time": "2021-08-20T21:02:59.205Z"
   },
   {
    "duration": 996,
    "start_time": "2021-08-20T21:03:07.692Z"
   },
   {
    "duration": 129,
    "start_time": "2021-08-20T21:03:08.689Z"
   },
   {
    "duration": 117,
    "start_time": "2021-08-20T21:03:08.820Z"
   },
   {
    "duration": 122,
    "start_time": "2021-08-20T21:03:08.939Z"
   },
   {
    "duration": 243,
    "start_time": "2021-08-20T21:03:09.062Z"
   },
   {
    "duration": 15,
    "start_time": "2021-08-20T21:03:09.307Z"
   },
   {
    "duration": 16,
    "start_time": "2021-08-20T21:03:09.324Z"
   },
   {
    "duration": 16,
    "start_time": "2021-08-20T21:03:09.341Z"
   },
   {
    "duration": 84,
    "start_time": "2021-08-20T21:03:09.359Z"
   },
   {
    "duration": 49,
    "start_time": "2021-08-20T21:03:09.445Z"
   },
   {
    "duration": 195,
    "start_time": "2021-08-20T21:03:09.496Z"
   },
   {
    "duration": 197,
    "start_time": "2021-08-20T21:03:09.693Z"
   },
   {
    "duration": 7,
    "start_time": "2021-08-20T21:03:09.893Z"
   },
   {
    "duration": 94,
    "start_time": "2021-08-20T21:03:09.902Z"
   },
   {
    "duration": 16,
    "start_time": "2021-08-20T21:03:09.997Z"
   },
   {
    "duration": 11,
    "start_time": "2021-08-20T21:03:10.015Z"
   },
   {
    "duration": 8,
    "start_time": "2021-08-20T21:03:10.028Z"
   },
   {
    "duration": 6990,
    "start_time": "2021-08-20T21:03:10.038Z"
   },
   {
    "duration": 3,
    "start_time": "2021-08-20T21:03:47.580Z"
   },
   {
    "duration": 958,
    "start_time": "2021-08-20T21:03:53.533Z"
   },
   {
    "duration": 2,
    "start_time": "2021-08-20T21:03:54.493Z"
   },
   {
    "duration": 140,
    "start_time": "2021-08-20T21:03:54.496Z"
   },
   {
    "duration": 121,
    "start_time": "2021-08-20T21:03:54.637Z"
   },
   {
    "duration": 118,
    "start_time": "2021-08-20T21:03:54.759Z"
   },
   {
    "duration": 245,
    "start_time": "2021-08-20T21:03:54.878Z"
   },
   {
    "duration": 14,
    "start_time": "2021-08-20T21:03:55.125Z"
   },
   {
    "duration": 17,
    "start_time": "2021-08-20T21:03:55.141Z"
   },
   {
    "duration": 34,
    "start_time": "2021-08-20T21:03:55.159Z"
   },
   {
    "duration": 63,
    "start_time": "2021-08-20T21:03:55.194Z"
   },
   {
    "duration": 41,
    "start_time": "2021-08-20T21:03:55.259Z"
   },
   {
    "duration": 107,
    "start_time": "2021-08-20T21:03:55.393Z"
   },
   {
    "duration": 196,
    "start_time": "2021-08-20T21:03:55.502Z"
   },
   {
    "duration": 96,
    "start_time": "2021-08-20T21:03:55.701Z"
   },
   {
    "duration": 4,
    "start_time": "2021-08-20T21:03:55.892Z"
   },
   {
    "duration": 12,
    "start_time": "2021-08-20T21:03:55.897Z"
   },
   {
    "duration": 8,
    "start_time": "2021-08-20T21:03:55.911Z"
   },
   {
    "duration": 9,
    "start_time": "2021-08-20T21:03:55.920Z"
   },
   {
    "duration": 6987,
    "start_time": "2021-08-20T21:03:55.930Z"
   },
   {
    "duration": 989,
    "start_time": "2021-08-20T21:05:23.615Z"
   },
   {
    "duration": 2,
    "start_time": "2021-08-20T21:05:24.608Z"
   },
   {
    "duration": 134,
    "start_time": "2021-08-20T21:05:24.612Z"
   },
   {
    "duration": 120,
    "start_time": "2021-08-20T21:05:24.748Z"
   },
   {
    "duration": 121,
    "start_time": "2021-08-20T21:05:24.869Z"
   },
   {
    "duration": 241,
    "start_time": "2021-08-20T21:05:24.991Z"
   },
   {
    "duration": 15,
    "start_time": "2021-08-20T21:05:25.233Z"
   },
   {
    "duration": 16,
    "start_time": "2021-08-20T21:05:25.250Z"
   },
   {
    "duration": 35,
    "start_time": "2021-08-20T21:05:25.268Z"
   },
   {
    "duration": 66,
    "start_time": "2021-08-20T21:05:25.305Z"
   },
   {
    "duration": 29,
    "start_time": "2021-08-20T21:05:25.372Z"
   },
   {
    "duration": 190,
    "start_time": "2021-08-20T21:05:25.403Z"
   },
   {
    "duration": 107,
    "start_time": "2021-08-20T21:05:25.598Z"
   },
   {
    "duration": 86,
    "start_time": "2021-08-20T21:05:25.708Z"
   },
   {
    "duration": 95,
    "start_time": "2021-08-20T21:05:25.796Z"
   },
   {
    "duration": 527,
    "start_time": "2021-08-20T21:05:25.893Z"
   },
   {
    "duration": -1417,
    "start_time": "2021-08-20T21:05:27.839Z"
   },
   {
    "duration": -1419,
    "start_time": "2021-08-20T21:05:27.842Z"
   },
   {
    "duration": -1420,
    "start_time": "2021-08-20T21:05:27.844Z"
   },
   {
    "duration": 315,
    "start_time": "2021-08-20T21:06:16.802Z"
   },
   {
    "duration": 4,
    "start_time": "2021-08-20T21:06:26.129Z"
   },
   {
    "duration": 9,
    "start_time": "2021-08-20T21:06:27.321Z"
   },
   {
    "duration": 10,
    "start_time": "2021-08-20T21:06:37.785Z"
   },
   {
    "duration": 9,
    "start_time": "2021-08-20T21:06:41.473Z"
   },
   {
    "duration": 950,
    "start_time": "2021-08-20T21:06:45.038Z"
   },
   {
    "duration": 2,
    "start_time": "2021-08-20T21:06:45.991Z"
   },
   {
    "duration": 132,
    "start_time": "2021-08-20T21:06:45.995Z"
   },
   {
    "duration": 121,
    "start_time": "2021-08-20T21:06:46.129Z"
   },
   {
    "duration": 124,
    "start_time": "2021-08-20T21:06:46.251Z"
   },
   {
    "duration": 232,
    "start_time": "2021-08-20T21:06:46.377Z"
   },
   {
    "duration": 15,
    "start_time": "2021-08-20T21:06:46.611Z"
   },
   {
    "duration": 17,
    "start_time": "2021-08-20T21:06:46.627Z"
   },
   {
    "duration": 15,
    "start_time": "2021-08-20T21:06:46.646Z"
   },
   {
    "duration": 83,
    "start_time": "2021-08-20T21:06:46.663Z"
   },
   {
    "duration": 52,
    "start_time": "2021-08-20T21:06:46.747Z"
   },
   {
    "duration": 197,
    "start_time": "2021-08-20T21:06:46.801Z"
   },
   {
    "duration": 192,
    "start_time": "2021-08-20T21:06:47.001Z"
   },
   {
    "duration": 96,
    "start_time": "2021-08-20T21:06:47.199Z"
   },
   {
    "duration": 5,
    "start_time": "2021-08-20T21:06:47.296Z"
   },
   {
    "duration": 11,
    "start_time": "2021-08-20T21:06:47.302Z"
   },
   {
    "duration": 8,
    "start_time": "2021-08-20T21:06:47.314Z"
   },
   {
    "duration": 7,
    "start_time": "2021-08-20T21:06:47.324Z"
   },
   {
    "duration": 6870,
    "start_time": "2021-08-20T21:06:47.333Z"
   },
   {
    "duration": 78,
    "start_time": "2021-08-20T21:07:14.806Z"
   },
   {
    "duration": 2756,
    "start_time": "2021-08-20T21:09:18.621Z"
   },
   {
    "duration": 2750,
    "start_time": "2021-08-20T21:09:33.151Z"
   },
   {
    "duration": 1292,
    "start_time": "2021-08-20T21:10:04.525Z"
   },
   {
    "duration": 3,
    "start_time": "2021-08-20T21:10:05.819Z"
   },
   {
    "duration": 152,
    "start_time": "2021-08-20T21:10:05.824Z"
   },
   {
    "duration": 142,
    "start_time": "2021-08-20T21:10:05.978Z"
   },
   {
    "duration": 131,
    "start_time": "2021-08-20T21:10:06.122Z"
   },
   {
    "duration": 261,
    "start_time": "2021-08-20T21:10:06.255Z"
   },
   {
    "duration": 16,
    "start_time": "2021-08-20T21:10:06.518Z"
   },
   {
    "duration": 16,
    "start_time": "2021-08-20T21:10:06.537Z"
   },
   {
    "duration": 18,
    "start_time": "2021-08-20T21:10:06.555Z"
   },
   {
    "duration": 79,
    "start_time": "2021-08-20T21:10:06.574Z"
   },
   {
    "duration": 45,
    "start_time": "2021-08-20T21:10:06.655Z"
   },
   {
    "duration": 201,
    "start_time": "2021-08-20T21:10:06.792Z"
   },
   {
    "duration": 103,
    "start_time": "2021-08-20T21:10:06.995Z"
   },
   {
    "duration": 98,
    "start_time": "2021-08-20T21:10:07.100Z"
   },
   {
    "duration": 96,
    "start_time": "2021-08-20T21:10:07.201Z"
   },
   {
    "duration": 10,
    "start_time": "2021-08-20T21:10:07.299Z"
   },
   {
    "duration": 9,
    "start_time": "2021-08-20T21:10:07.311Z"
   },
   {
    "duration": 9,
    "start_time": "2021-08-20T21:10:07.322Z"
   },
   {
    "duration": 7034,
    "start_time": "2021-08-20T21:10:07.333Z"
   },
   {
    "duration": 113,
    "start_time": "2021-08-20T21:11:12.363Z"
   },
   {
    "duration": 1039,
    "start_time": "2021-08-20T21:11:57.053Z"
   },
   {
    "duration": 3,
    "start_time": "2021-08-20T21:11:58.093Z"
   },
   {
    "duration": 130,
    "start_time": "2021-08-20T21:11:58.098Z"
   },
   {
    "duration": 120,
    "start_time": "2021-08-20T21:11:58.230Z"
   },
   {
    "duration": 121,
    "start_time": "2021-08-20T21:11:58.352Z"
   },
   {
    "duration": 241,
    "start_time": "2021-08-20T21:11:58.475Z"
   },
   {
    "duration": 15,
    "start_time": "2021-08-20T21:11:58.718Z"
   },
   {
    "duration": 15,
    "start_time": "2021-08-20T21:11:58.735Z"
   },
   {
    "duration": 15,
    "start_time": "2021-08-20T21:11:58.752Z"
   },
   {
    "duration": 80,
    "start_time": "2021-08-20T21:11:58.769Z"
   },
   {
    "duration": 43,
    "start_time": "2021-08-20T21:11:58.851Z"
   },
   {
    "duration": 103,
    "start_time": "2021-08-20T21:11:58.896Z"
   },
   {
    "duration": 105,
    "start_time": "2021-08-20T21:11:59.093Z"
   },
   {
    "duration": 93,
    "start_time": "2021-08-20T21:11:59.200Z"
   },
   {
    "duration": 96,
    "start_time": "2021-08-20T21:11:59.295Z"
   },
   {
    "duration": 12,
    "start_time": "2021-08-20T21:11:59.393Z"
   },
   {
    "duration": 9,
    "start_time": "2021-08-20T21:11:59.406Z"
   },
   {
    "duration": 8,
    "start_time": "2021-08-20T21:11:59.416Z"
   },
   {
    "duration": 7095,
    "start_time": "2021-08-20T21:11:59.426Z"
   },
   {
    "duration": 92,
    "start_time": "2021-08-20T21:12:30.376Z"
   },
   {
    "duration": 1348,
    "start_time": "2021-08-21T08:59:31.520Z"
   },
   {
    "duration": 4,
    "start_time": "2021-08-21T08:59:32.872Z"
   },
   {
    "duration": 182,
    "start_time": "2021-08-21T08:59:32.879Z"
   },
   {
    "duration": 161,
    "start_time": "2021-08-21T08:59:33.064Z"
   },
   {
    "duration": 162,
    "start_time": "2021-08-21T08:59:33.227Z"
   },
   {
    "duration": 408,
    "start_time": "2021-08-21T08:59:33.391Z"
   },
   {
    "duration": 23,
    "start_time": "2021-08-21T08:59:33.801Z"
   },
   {
    "duration": 45,
    "start_time": "2021-08-21T08:59:33.828Z"
   },
   {
    "duration": 25,
    "start_time": "2021-08-21T08:59:33.877Z"
   },
   {
    "duration": 99,
    "start_time": "2021-08-21T08:59:33.905Z"
   },
   {
    "duration": 62,
    "start_time": "2021-08-21T08:59:34.007Z"
   },
   {
    "duration": 200,
    "start_time": "2021-08-21T08:59:34.161Z"
   },
   {
    "duration": 109,
    "start_time": "2021-08-21T08:59:34.364Z"
   },
   {
    "duration": 95,
    "start_time": "2021-08-21T08:59:34.476Z"
   },
   {
    "duration": 7,
    "start_time": "2021-08-21T08:59:34.663Z"
   },
   {
    "duration": 17,
    "start_time": "2021-08-21T08:59:34.672Z"
   },
   {
    "duration": 13,
    "start_time": "2021-08-21T08:59:34.691Z"
   },
   {
    "duration": 55,
    "start_time": "2021-08-21T08:59:34.707Z"
   },
   {
    "duration": 12781,
    "start_time": "2021-08-21T08:59:34.765Z"
   },
   {
    "duration": 17,
    "start_time": "2021-08-21T09:01:21.888Z"
   },
   {
    "duration": 281,
    "start_time": "2021-12-14T13:41:30.524Z"
   },
   {
    "duration": 1067,
    "start_time": "2021-12-14T13:41:56.627Z"
   },
   {
    "duration": 3,
    "start_time": "2021-12-14T13:41:57.696Z"
   },
   {
    "duration": 153,
    "start_time": "2021-12-14T13:41:57.701Z"
   },
   {
    "duration": 135,
    "start_time": "2021-12-14T13:41:57.856Z"
   },
   {
    "duration": 127,
    "start_time": "2021-12-14T13:41:57.993Z"
   },
   {
    "duration": 275,
    "start_time": "2021-12-14T13:41:58.122Z"
   },
   {
    "duration": 18,
    "start_time": "2021-12-14T13:41:58.398Z"
   },
   {
    "duration": 36,
    "start_time": "2021-12-14T13:41:58.419Z"
   },
   {
    "duration": 40,
    "start_time": "2021-12-14T13:41:58.457Z"
   },
   {
    "duration": 15,
    "start_time": "2021-12-14T13:41:58.499Z"
   },
   {
    "duration": 71,
    "start_time": "2021-12-14T13:41:58.516Z"
   },
   {
    "duration": 75,
    "start_time": "2021-12-14T13:41:58.589Z"
   },
   {
    "duration": 125,
    "start_time": "2021-12-14T13:41:58.666Z"
   },
   {
    "duration": 270,
    "start_time": "2021-12-14T13:41:58.793Z"
   },
   {
    "duration": 8,
    "start_time": "2021-12-14T13:41:59.066Z"
   },
   {
    "duration": 10,
    "start_time": "2021-12-14T13:41:59.164Z"
   },
   {
    "duration": 16,
    "start_time": "2021-12-14T13:41:59.175Z"
   },
   {
    "duration": 17,
    "start_time": "2021-12-14T13:41:59.192Z"
   },
   {
    "duration": 32,
    "start_time": "2021-12-14T13:41:59.210Z"
   },
   {
    "duration": 7348,
    "start_time": "2021-12-14T13:41:59.244Z"
   }
  ],
  "kernelspec": {
   "display_name": "Python 3",
   "language": "python",
   "name": "python3"
  },
  "language_info": {
   "codemirror_mode": {
    "name": "ipython",
    "version": 3
   },
   "file_extension": ".py",
   "mimetype": "text/x-python",
   "name": "python",
   "nbconvert_exporter": "python",
   "pygments_lexer": "ipython3",
   "version": "3.7.8"
  },
  "toc": {
   "base_numbering": 1,
   "nav_menu": {},
   "number_sections": true,
   "sideBar": true,
   "skip_h1_title": true,
   "title_cell": "Table of Contents",
   "title_sidebar": "Contents",
   "toc_cell": false,
   "toc_position": {},
   "toc_section_display": true,
   "toc_window_display": false
  }
 },
 "nbformat": 4,
 "nbformat_minor": 2
}
